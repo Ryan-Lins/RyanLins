{
 "cells": [
  {
   "cell_type": "code",
   "execution_count": 2,
   "metadata": {},
   "outputs": [
    {
     "name": "stdout",
     "output_type": "stream",
     "text": [
      "Requirement already satisfied: MNE in c:\\users\\messias\\anaconda3\\envs\\meu_ambiente\\lib\\site-packages (1.8.0)\n",
      "Requirement already satisfied: decorator in c:\\users\\messias\\anaconda3\\envs\\meu_ambiente\\lib\\site-packages (from MNE) (5.1.1)\n",
      "Requirement already satisfied: jinja2 in c:\\users\\messias\\anaconda3\\envs\\meu_ambiente\\lib\\site-packages (from MNE) (3.1.4)\n",
      "Requirement already satisfied: lazy-loader>=0.3 in c:\\users\\messias\\anaconda3\\envs\\meu_ambiente\\lib\\site-packages (from MNE) (0.4)\n",
      "Requirement already satisfied: matplotlib>=3.6 in c:\\users\\messias\\anaconda3\\envs\\meu_ambiente\\lib\\site-packages (from MNE) (3.9.2)\n",
      "Requirement already satisfied: numpy<3,>=1.23 in c:\\users\\messias\\anaconda3\\envs\\meu_ambiente\\lib\\site-packages (from MNE) (2.1.1)\n",
      "Requirement already satisfied: packaging in c:\\users\\messias\\anaconda3\\envs\\meu_ambiente\\lib\\site-packages (from MNE) (24.1)\n",
      "Requirement already satisfied: pooch>=1.5 in c:\\users\\messias\\anaconda3\\envs\\meu_ambiente\\lib\\site-packages (from MNE) (1.8.2)\n",
      "Requirement already satisfied: scipy>=1.9 in c:\\users\\messias\\anaconda3\\envs\\meu_ambiente\\lib\\site-packages (from MNE) (1.14.1)\n",
      "Requirement already satisfied: tqdm in c:\\users\\messias\\anaconda3\\envs\\meu_ambiente\\lib\\site-packages (from MNE) (4.66.5)\n",
      "Requirement already satisfied: contourpy>=1.0.1 in c:\\users\\messias\\anaconda3\\envs\\meu_ambiente\\lib\\site-packages (from matplotlib>=3.6->MNE) (1.3.0)\n",
      "Requirement already satisfied: cycler>=0.10 in c:\\users\\messias\\anaconda3\\envs\\meu_ambiente\\lib\\site-packages (from matplotlib>=3.6->MNE) (0.12.1)\n",
      "Requirement already satisfied: fonttools>=4.22.0 in c:\\users\\messias\\anaconda3\\envs\\meu_ambiente\\lib\\site-packages (from matplotlib>=3.6->MNE) (4.54.1)\n",
      "Requirement already satisfied: kiwisolver>=1.3.1 in c:\\users\\messias\\anaconda3\\envs\\meu_ambiente\\lib\\site-packages (from matplotlib>=3.6->MNE) (1.4.7)\n",
      "Requirement already satisfied: pillow>=8 in c:\\users\\messias\\anaconda3\\envs\\meu_ambiente\\lib\\site-packages (from matplotlib>=3.6->MNE) (10.4.0)\n",
      "Requirement already satisfied: pyparsing>=2.3.1 in c:\\users\\messias\\anaconda3\\envs\\meu_ambiente\\lib\\site-packages (from matplotlib>=3.6->MNE) (3.1.4)\n",
      "Requirement already satisfied: python-dateutil>=2.7 in c:\\users\\messias\\anaconda3\\envs\\meu_ambiente\\lib\\site-packages (from matplotlib>=3.6->MNE) (2.9.0.post0)\n",
      "Requirement already satisfied: platformdirs>=2.5.0 in c:\\users\\messias\\anaconda3\\envs\\meu_ambiente\\lib\\site-packages (from pooch>=1.5->MNE) (3.10.0)\n",
      "Requirement already satisfied: requests>=2.19.0 in c:\\users\\messias\\anaconda3\\envs\\meu_ambiente\\lib\\site-packages (from pooch>=1.5->MNE) (2.32.3)\n",
      "Requirement already satisfied: MarkupSafe>=2.0 in c:\\users\\messias\\anaconda3\\envs\\meu_ambiente\\lib\\site-packages (from jinja2->MNE) (2.1.3)\n",
      "Requirement already satisfied: colorama in c:\\users\\messias\\anaconda3\\envs\\meu_ambiente\\lib\\site-packages (from tqdm->MNE) (0.4.6)\n",
      "Requirement already satisfied: six>=1.5 in c:\\users\\messias\\anaconda3\\envs\\meu_ambiente\\lib\\site-packages (from python-dateutil>=2.7->matplotlib>=3.6->MNE) (1.16.0)\n",
      "Requirement already satisfied: charset-normalizer<4,>=2 in c:\\users\\messias\\anaconda3\\envs\\meu_ambiente\\lib\\site-packages (from requests>=2.19.0->pooch>=1.5->MNE) (3.3.2)\n",
      "Requirement already satisfied: idna<4,>=2.5 in c:\\users\\messias\\anaconda3\\envs\\meu_ambiente\\lib\\site-packages (from requests>=2.19.0->pooch>=1.5->MNE) (3.10)\n",
      "Requirement already satisfied: urllib3<3,>=1.21.1 in c:\\users\\messias\\anaconda3\\envs\\meu_ambiente\\lib\\site-packages (from requests>=2.19.0->pooch>=1.5->MNE) (2.2.3)\n",
      "Requirement already satisfied: certifi>=2017.4.17 in c:\\users\\messias\\anaconda3\\envs\\meu_ambiente\\lib\\site-packages (from requests>=2.19.0->pooch>=1.5->MNE) (2024.8.30)\n"
     ]
    }
   ],
   "source": [
    "!pip install MNE"
   ]
  },
  {
   "cell_type": "code",
   "execution_count": null,
   "metadata": {},
   "outputs": [],
   "source": [
    "import pandas as pd\n",
    "import matplotlib.pyplot as plt\n",
    "\n",
    "# Carregar o arquivo CSV (após o upload manual)\n",
    "csv_file = 'fnirs.csv'  # Certifique-se de que o nome do arquivo está correto\n",
    "df = pd.read_csv(csv_file)\n",
    "\n",
    "# Verificar as colunas disponíveis no DataFrame\n",
    "print(\"Colunas disponíveis no DataFrame:\", df.columns)\n",
    "\n",
    "# 1. Gráfico de linha para visualização de um sinal ao longo do tempo\n",
    "plt.figure(figsize=(10, 6))\n",
    "df.plot(x='time', y='S1_D1 760', kind='line')  # Substitua 'S1_D1 760' por qualquer outro sinal, se necessário\n",
    "plt.xlabel('Tempo')\n",
    "plt.ylabel('Sinal (S1_D1 760)')\n",
    "plt.title('Sinal fNIRS (S1_D1 760) ao longo do tempo')\n",
    "plt.grid(True)\n",
    "plt.show()\n",
    "\n",
    "# 2. Histograma dos dados de um sinal específico\n",
    "plt.figure(figsize=(10, 6))\n",
    "df['S1_D1 760'].hist(bins=30)  # Substitua 'S1_D1 760' pela coluna correta\n",
    "plt.xlabel('Sinal (S1_D1 760)')\n",
    "plt.ylabel('Frequência')\n",
    "plt.title('Distribuição do Sinal fNIRS (S1_D1 760)')\n",
    "plt.grid(True)\n",
    "plt.show()\n",
    "\n",
    "# 3. Visualização de múltiplos sinais (exemplo com algumas colunas)\n",
    "plt.figure(figsize=(12, 8))\n",
    "df[['S1_D1 760', 'S1_D1 850', 'S1_D2 760']].plot(subplots=True, figsize=(12, 8))  # Substitua pelas colunas desejadas\n",
    "plt.show()\n",
    "\n",
    "# 4. Análise mais avançada: Média móvel para suavizar o sinal\n",
    "df['S1_D1 760_smoothed'] = df['S1_D1 760'].rolling(window=50).mean()  # Substitua 'S1_D1 760' pela coluna correta\n",
    "plt.figure(figsize=(10, 6))\n",
    "df[['S1_D1 760', 'S1_D1 760_smoothed']].plot()\n",
    "plt.xlabel('Tempo')\n",
    "plt.ylabel('Sinal (S1_D1 760)')\n",
    "plt.title('Sinal Original vs. Sinal Suavizado (S1_D1 760)')\n",
    "plt.grid(True)\n",
    "plt.show()"
   ]
  },
  {
   "cell_type": "code",
   "execution_count": null,
   "metadata": {},
   "outputs": [],
   "source": [
    "import pandas as pd\n",
    "\n"
   ]
  }
 ],
 "metadata": {
  "kernelspec": {
   "display_name": "meu_ambiente",
   "language": "python",
   "name": "python3"
  },
  "language_info": {
   "codemirror_mode": {
    "name": "ipython",
    "version": 3
   },
   "file_extension": ".py",
   "mimetype": "text/x-python",
   "name": "python",
   "nbconvert_exporter": "python",
   "pygments_lexer": "ipython3",
   "version": "3.10.15"
  }
 },
 "nbformat": 4,
 "nbformat_minor": 2
}
